{
 "cells": [
  {
   "cell_type": "markdown",
   "metadata": {},
   "source": [
    "## Serial Crystallography Introduction"
   ]
  },
  {
   "cell_type": "markdown",
   "metadata": {},
   "source": [
    "<img src=\"ijms-20-01094-g001.png\" width=\"700\" align=\"left\"/>  "
   ]
  },
  {
   "cell_type": "markdown",
   "metadata": {},
   "source": [
    "(c) Nam et al.  Int. J. Mol. Sci. 2019, 20(5), 1094; https://doi.org/10.3390/ijms20051094  "
   ]
  },
  {
   "cell_type": "markdown",
   "metadata": {},
   "source": [
    "## Sample choice"
   ]
  },
  {
   "cell_type": "markdown",
   "metadata": {},
   "source": [
    "[3WUL](https://www.rcsb.org/structure/3WUL) is a protein structure in PDB (Sugahara et al, 2016, [10.1038/nmeth.3172](https://dx.doi.org/10.1038/nmeth.3172)).\n",
    "The protein is hen's egg-white lysozyme (HEWL), a small enzyme commonly used as a test case for X-ray crystallography."
   ]
  },
  {
   "cell_type": "markdown",
   "metadata": {
    "scrolled": false
   },
   "source": [
    "<img src=\"3wul.pdb1-500.jpg\" width=\"300\" align=\"left\"/>"
   ]
  },
  {
   "cell_type": "markdown",
   "metadata": {},
   "source": [
    "## Simulation Demonstration"
   ]
  },
  {
   "cell_type": "code",
   "execution_count": 1,
   "metadata": {},
   "outputs": [
    {
     "name": "stdout",
     "output_type": "stream",
     "text": [
      "initializing ocelot...\n",
      "\n",
      "WARNING: esther_execute could not be imported. This is most probably due to Esther not being installed or not found. Expect RunTimeErrors when attempting to run the EstherPhotonMatterInteractor.backengine().\n"
     ]
    }
   ],
   "source": [
    "import os, shutil\n",
    "import matplotlib.pyplot as plt\n",
    "import numpy as np\n",
    "\n",
    "from SimEx import *"
   ]
  },
  {
   "cell_type": "markdown",
   "metadata": {},
   "source": [
    "## Data path setup"
   ]
  },
  {
   "cell_type": "code",
   "execution_count": 2,
   "metadata": {},
   "outputs": [],
   "source": [
    "data_path = './diffr_monolithic'"
   ]
  },
  {
   "cell_type": "markdown",
   "metadata": {},
   "source": [
    "Clean up any data from a previous run:"
   ]
  },
  {
   "cell_type": "code",
   "execution_count": 3,
   "metadata": {},
   "outputs": [],
   "source": [
    "if os.path.isdir(data_path):\n",
    "    shutil.rmtree(data_path)\n",
    "\n",
    "if os.path.isfile(data_path + '.h5'):\n",
    "    os.remove(data_path + '.h5')"
   ]
  },
  {
   "cell_type": "markdown",
   "metadata": {},
   "source": [
    "## Set up X-ray Beam Parameters"
   ]
  },
  {
   "cell_type": "code",
   "execution_count": 4,
   "metadata": {},
   "outputs": [],
   "source": [
    "beamParam = PhotonBeamParameters(\n",
    "    photon_energy = 4972.0 * electronvolt,  # photon energy in eV\n",
    "    beam_diameter_fwhm=130e-9 * meter,      # focus diameter in m\n",
    "    pulse_energy=45e-3 * joule,             # pulse energy in J\n",
    "    photon_energy_relative_bandwidth=0.003, # relative bandwidth dE/E\n",
    "    divergence=0.0 * radian,                # Beam divergence in rad\n",
    "    photon_energy_spectrum_type='tophat',   # Spectrum type. Acceptable values are \"tophat\", \"SASE\", and \"twocolor\")\n",
    ")"
   ]
  },
  {
   "cell_type": "markdown",
   "metadata": {},
   "source": [
    "## Detector Setting"
   ]
  },
  {
   "cell_type": "markdown",
   "metadata": {},
   "source": [
    "Define a detector with 1000 × 1000 pixels, each a 220 μm square."
   ]
  },
  {
   "cell_type": "code",
   "execution_count": 5,
   "metadata": {},
   "outputs": [],
   "source": [
    "panel = DetectorPanel(\n",
    "    ranges={\"fast_scan_min\" : 0, \"fast_scan_max\" : 999,\n",
    "            \"slow_scan_min\" : 0, \"slow_scan_max\" : 999},\n",
    "    pixel_size=220.0e-6 * meter,\n",
    "    energy_response=1.0 / electronvolt,\n",
    "    distance_from_interaction_plane=0.13 * meter,\n",
    "    corners={\"x\" : -500, \"y\": -500},\n",
    "    saturation_adu=1.e6,\n",
    ")\n",
    "\n",
    "detector_geometry = DetectorGeometry(panels=panel)"
   ]
  },
  {
   "cell_type": "markdown",
   "metadata": {},
   "source": [
    "## Diffractor Settings"
   ]
  },
  {
   "cell_type": "markdown",
   "metadata": {},
   "source": [
    "Now we define the details of our sample, combined with the beam & detector definitions from above."
   ]
  },
  {
   "cell_type": "code",
   "execution_count": 6,
   "metadata": {},
   "outputs": [
    {
     "name": "stdout",
     "output_type": "stream",
     "text": [
      "Checking presence of 3WUL.pdb. Will query from PDB if not found in $PWD.\n",
      "Sample path is set to 3WUL.pdb.\n"
     ]
    }
   ],
   "source": [
    "diffParam = CrystFELPhotonDiffractorParameters(\n",
    "    sample='3WUL.pdb',                    # Looks up pdb file in cwd, if not found, queries from RCSB pdb mirror.\n",
    "    uniform_rotation=True,                # Apply random rotation\n",
    "    number_of_diffraction_patterns=2,     #\n",
    "    powder=False,                         # Set to True to create a virtual powder diffraction pattern (unested)\n",
    "    intensities_file=None,                # File that contains reflection intensities. If set to none, use uniform intensity distribution\n",
    "    crystal_size_range=[1e-7, 1e-7],      # Range ([min,max]) in units of metres of crystal size.\n",
    "    poissonize=False,                     # Set to True to add Poisson noise.\n",
    "    number_of_background_photons=0,       # Change number to add uniformly distributed background photons.\n",
    "    suppress_fringes=False,               # Set to True to suppress side maxima between reflection peaks.\n",
    "    beam_parameters=beamParam,            # Beam parameters object from above\n",
    "    detector_geometry=detector_geometry,  # External file that contains the detector geometry in CrystFEL notation.\n",
    ")"
   ]
  },
  {
   "cell_type": "markdown",
   "metadata": {},
   "source": [
    "## Run the simulation"
   ]
  },
  {
   "cell_type": "code",
   "execution_count": 7,
   "metadata": {},
   "outputs": [],
   "source": [
    "diffractor = CrystFELPhotonDiffractor(\n",
    "    parameters=diffParam, output_path=data_path\n",
    ")"
   ]
  },
  {
   "cell_type": "code",
   "execution_count": 8,
   "metadata": {},
   "outputs": [
    {
     "name": "stdout",
     "output_type": "stream",
     "text": [
      "Renaming diffr_out-1.h5 to diffr_out_0000001.h5.\n",
      "Renaming diffr_out-2.h5 to diffr_out_0000002.h5.\n",
      "Linking all patterns into /home/kluyvert/Code/crystalProject/src/controller/panoscDEMO/diffr_monolithic.h5.\n"
     ]
    }
   ],
   "source": [
    "# Ensure pattern_sim is on PATH\n",
    "import modules\n",
    "modules.load(\"crystfel\")\n",
    "\n",
    "diffractor.backengine()\n",
    "diffractor.saveH5()"
   ]
  },
  {
   "cell_type": "code",
   "execution_count": 9,
   "metadata": {
    "scrolled": false
   },
   "outputs": [
    {
     "data": {
      "image/png": "[encoded data removed]",
      "text/plain": [
       "<Figure size 864x720 with 2 Axes>"
      ]
     },
     "metadata": {
      "needs_background": "light"
     },
     "output_type": "display_data"
    }
   ],
   "source": [
    "analyzer = DiffractionAnalysis(\n",
    "    input_path=data_path,\n",
    "    pattern_indices=1,\n",
    "    poissonize=True,\n",
    ")\n",
    "analyzer.plotPattern(logscale=True)\n",
    "plt.gcf().set_size_inches(12, 10)"
   ]
  },
  {
   "cell_type": "markdown",
   "metadata": {},
   "source": [
    "This project has received funding from the European Union's Horizon 2020 research and innovation programme under grant agreement No. 823852."
   ]
  }
 ],
 "metadata": {
  "kernelspec": {
   "display_name": "Simex (module)",
   "language": "python",
   "name": "simex-module"
  },
  "language_info": {
   "codemirror_mode": {
    "name": "ipython",
    "version": 3
   },
   "file_extension": ".py",
   "mimetype": "text/x-python",
   "name": "python",
   "nbconvert_exporter": "python",
   "pygments_lexer": "ipython3",
   "version": "3.6.7"
  }
 },
 "nbformat": 4,
 "nbformat_minor": 4
}
